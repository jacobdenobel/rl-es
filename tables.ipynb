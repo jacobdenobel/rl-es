{
 "cells": [
  {
   "cell_type": "code",
   "execution_count": 58,
   "id": "9e469187-5a83-49dd-b7a6-8eafd68b79cd",
   "metadata": {},
   "outputs": [],
   "source": [
    "import os\n",
    "import pandas as pd\n",
    "import numpy as np\n",
    "from scipy.signal import savgol_filter\n",
    "import matplotlib.pyplot as plt\n",
    "\n",
    "ENVS = [\n",
    "    (\"CartPole-v1\", 5e5),\n",
    "    (\"LunarLander-v2\", 5e5),\n",
    "    (\"Swimmer-v4\", 5e5),\n",
    "    (\"HalfCheetah-v4\", 3e6),\n",
    "    (\"Boxing-v5\", 1e8),\n",
    "    (\"SpaceInvaders-v5\", 1e8),\n",
    "    \n",
    "    (\"Acrobot-v1\", 5e5),\n",
    "    (\"Pendulum-v1\", 5e5),\n",
    "    (\"BipedalWalker-v3\", 2e6),\n",
    "    \n",
    "    (\"Hopper-v4\", 1e6),\n",
    "    (\"Walker2d-v4\", 2e6),\n",
    "    (\"Ant-v4\", 1e7),\n",
    "    (\"Humanoid-v4\", 1e7),\n",
    "    \n",
    "    (\"Atlantis-v5\", 2e7),\n",
    "    (\"BeamRider-v5\", 2e7),\n",
    "    (\"Pong-v5\", 2e7),\n",
    "    (\"CrazyClimber-v5\", 2e7),\n",
    "    (\"Enduro-v5\",  2e7),\n",
    "    \n",
    "    (\"Qbert-v5\", 2e7),\n",
    "    (\"Seaquest-v5\", 2e7),\n",
    "]\n",
    "\n",
    "\n",
    "ALL_GYM_ENVS = [\n",
    "    (\"CartPole-v1\", 0.1, 4, 475,),\n",
    "    (\"Acrobot-v1\", 0.05, 4, -100,),\n",
    "    (\"Pendulum-v1\", .1, 32, -100,),\n",
    "    (\"LunarLander-v2\", .1, 32, 200,),\n",
    "    (\"BipedalWalker-v3\", .1, 48, 300),\n",
    "    (\"Swimmer-v4\", .1, 4, 360),\n",
    "    (\"HalfCheetah-v4\", 0.05, 17,  4800,),\n",
    "    (\"Hopper-v4\", 0.05, 32,  3000,),\n",
    "    (\"Walker2d-v4\", 0.05, 51,  3000,),\n",
    "    (\"Ant-v4\", 0.05, 108,  5000,),\n",
    "    (\"Humanoid-v4\", 0.01, 128, 6000,),\n",
    "]\n",
    "\n",
    "def load_data(env_folder):\n",
    "    stats_list = []\n",
    "    for strat in os.listdir(env_folder):\n",
    "        path = os.path.join(env_folder, strat)\n",
    "        if not os.path.isdir(path): continue\n",
    "        for i, (run) in enumerate(os.listdir(path)):\n",
    "            path = os.path.join(env_folder, strat, run)\n",
    "            if not os.path.isdir(path): continue\n",
    "            stats = pd.read_csv(os.path.join(path, \"stats.csv\"), skipinitialspace=True)\n",
    "            stats['run'] = i\n",
    "            stats['folder'] = run\n",
    "            stats['strat'] = strat\n",
    "            sig, lamb = strat.split(\"sigma-\")[1].split(\"-lambda-\")\n",
    "            stats['method'] = stats.strat.str.split(\"-norm-\").str[0]\n",
    "            stats['sigma0'] = float(sig)\n",
    "            stats['lambda'] = int(lamb)\n",
    "            stats['train'] = stats[['best', 'current']].max(axis=1)\n",
    "            stats['expected_test'] = stats[['best_median', 'current_median']].max(axis=1)\n",
    "            stats_list.append(stats)\n",
    "    return pd.concat(stats_list, ignore_index=True)\n"
   ]
  },
  {
   "cell_type": "code",
   "execution_count": 62,
   "id": "38cfd029-4960-4e2e-9a2b-d451786e12de",
   "metadata": {},
   "outputs": [
    {
     "name": "stdout",
     "output_type": "stream",
     "text": [
      "Boxing-v5\n",
      "SpaceInvaders-v5\n",
      "Atlantis-v5\n",
      "BeamRider-v5\n",
      "Pong-v5\n",
      "CrazyClimber-v5\n",
      "Enduro-v5\n",
      "Qbert-v5\n",
      "Seaquest-v5\n"
     ]
    }
   ],
   "source": [
    "rl_data = pd.read_pickle(\"data/rl_data2.pkl\")\n",
    "es_data = pd.DataFrame()\n",
    "for env_name, time in ENVS:\n",
    "    if not env_name.endswith(\"v5\"):\n",
    "        env_data = pd.read_pickle(f\"data/{env_name}/data_hyp.pkl\")\n",
    "    else:\n",
    "        env_data = pd.read_pickle(f\"data/{env_name}/data.pkl\")\n",
    "        print(env_name)\n",
    "    env_data = env_data[\n",
    "        [\"method\", \"run\", \"n_train_episodes\", \"n_train_timesteps\", \"test\", \"train\", \"lambda\", \"sigma0\"]\n",
    "    ]\n",
    "    env_data['env'] = env_name\n",
    "    es_data = pd.concat([es_data, env_data])\n",
    "\n",
    "data = pd.concat([es_data, rl_data]).reset_index(drop=True)"
   ]
  },
  {
   "cell_type": "code",
   "execution_count": 95,
   "id": "39e171da-48c5-469f-a789-fd871522cfcf",
   "metadata": {},
   "outputs": [
    {
     "name": "stdout",
     "output_type": "stream",
     "text": [
      " & Threshold & CSA-ES & CMA-ES & sep-CMA-ES & DQN & PPO & SAC & DQN* & PPO* & SAC* \\\\ \n",
      "CartPole-v1 & 475 & $3\\cdot 10^3$ & $2\\cdot 10^3$ & $3\\cdot 10^3$ & $2\\cdot 10^4$ & $6\\cdot 10^4$ &  -  & $\\infty$ & $\\infty$ &  -  \\\\ \n",
      "Acrobot-v1 & -100 & $4\\cdot 10^3$ & $5\\cdot 10^3$ & $4\\cdot 10^3$ & $2\\cdot 10^4$ & $7\\cdot 10^4$ &  -  & $1\\cdot 10^5$ & $\\infty$ &  -  \\\\ \n",
      "Pendulum-v1 & -100 & $\\infty$ & $\\infty$ & $\\infty$ &  -  & $\\infty$ & $\\infty$ &  -  & $\\infty$ & $\\infty$ \\\\ \n",
      "LunarLander-v2 & 200 & $5\\cdot 10^4$ & $7\\cdot 10^4$ & $6\\cdot 10^4$ & $3\\cdot 10^5$ & $4\\cdot 10^5$ &  -  & $\\infty$ & $\\infty$ &  -  \\\\ \n",
      "BipedalWalker-v3 & 300 & $2\\cdot 10^6$ & $2\\cdot 10^6$ & $5\\cdot 10^6$ &  -  & $\\infty$ & $2\\cdot 10^5$ &  -  & $\\infty$ & $\\infty$ \\\\ \n",
      "Swimmer-v4 & 360 & $4\\cdot 10^5$ & $3\\cdot 10^5$ & $7\\cdot 10^5$ &  -  & $\\infty$ & $\\infty$ &  -  & $\\infty$ & $\\infty$ \\\\ \n",
      "HalfCheetah-v4 & 4800 & $2\\cdot 10^6$ & $1\\cdot 10^6$ & $2\\cdot 10^6$ &  -  & $\\infty$ & $5\\cdot 10^4$ &  -  & $\\infty$ & $\\infty$ \\\\ \n",
      "Hopper-v4 & 3000 & $4\\cdot 10^5$ & $3\\cdot 10^5$ & $1\\cdot 10^6$ &  -  & $3\\cdot 10^5$ & $1\\cdot 10^5$ &  -  & $\\infty$ & $\\infty$ \\\\ \n",
      "Walker2d-v4 & 3000 & $6\\cdot 10^6$ & $9\\cdot 10^5$ & $1\\cdot 10^6$ &  -  & $7\\cdot 10^5$ & $1\\cdot 10^5$ &  -  & $\\infty$ & $\\infty$ \\\\ \n",
      "Ant-v4 & 5000 & $3\\cdot 10^7$ & $3\\cdot 10^7$ & $2\\cdot 10^7$ &  -  & $\\infty$ & $4\\cdot 10^5$ &  -  & $\\infty$ & $\\infty$ \\\\ \n",
      "Humanoid-v4 & 6000 & $\\infty$ &  -  & $5\\cdot 10^7$ &  -  & $\\infty$ & $1\\cdot 10^6$ &  -  & $\\infty$ & $\\infty$ \\\\ \n",
      "\n"
     ]
    }
   ],
   "source": [
    "titles = \"CSA-ES\", \"CMA-ES\", \"sep-CMA-ES\", \"DQN\", \"PPO\", \"SAC\", \"DQN*\", \"PPO*\", \"SAC*\",\n",
    "keys =  'csa','cma-es', 'sep-cma-es', 'dqn_large', 'ppo_large', 'sac_large', 'dqn_small', 'ppo_small', 'sac_small',\n",
    "    \n",
    "max_reward_table = ' & Timesteps & ' + ' & '.join(titles) + ' \\\\\\\\ \\n'\n",
    "min_timesteps_table = ' & Threshold & ' + ' & '.join(titles) + ' \\\\\\\\ \\n'\n",
    "\n",
    "for env_name, *_, threshold in ALL_GYM_ENVS:\n",
    "    env_data = data[(data.env == env_name)]\n",
    "    max_time = dict(ENVS).get(env_name)\n",
    "    max_reward_dict = dict(env_data[(env_data.n_train_timesteps < max_time)].groupby([\"method\", \"run\"])['test'].max().groupby(\"method\").mean(\"test\").astype(int))\n",
    "    min_time_dict = dict.fromkeys(set(env_data.method), 0)\n",
    "    min_time_dict.update(**dict(env_data[env_data.test >= threshold].groupby([\"method\", \"run\"])['n_train_timesteps'].min().groupby(\"method\").min().astype(int)))\n",
    "    max_reward_table += env_name + ' & ' +  f'${max_time:.0e}$ & '.replace(\"e+0\", \"\\cdot 10^\") + \\\n",
    "        ' & '.join([str(max_reward_dict.get(k) or ' - ') for k in keys]) + ' \\\\\\\\ \\n'\n",
    "    \n",
    "    min_timesteps_table += env_name + ' & ' +  f'{threshold} & ' + \\\n",
    "        ' & '.join([f\"${v:.0e}$\".replace(\"e+0\", \"\\cdot 10^\").replace(\"0\\cdot 10^0\", \"\\infty\") if (v:=min_time_dict.get(k)) is not None else ' - ' for k in keys]) + ' \\\\\\\\ \\n'\n",
    "\n",
    "print(min_timesteps_table)"
   ]
  },
  {
   "cell_type": "code",
   "execution_count": 79,
   "id": "b58e2519-f7cd-41ca-a39c-0b01dd4a9ae7",
   "metadata": {},
   "outputs": [
    {
     "data": {
      "text/plain": [
       "method\n",
       "cma-es         1642\n",
       "csa            3041\n",
       "dqn_large     21326\n",
       "ppo_large     64820\n",
       "sep-cma-es     2751\n",
       "Name: n_train_timesteps, dtype: object"
      ]
     },
     "execution_count": 79,
     "metadata": {},
     "output_type": "execute_result"
    }
   ],
   "source": [
    "\n",
    "\n",
    "# .max(\"test\")[\"test\"]"
   ]
  },
  {
   "cell_type": "code",
   "execution_count": null,
   "id": "369fa317-5b63-435d-9e82-a1217566d335",
   "metadata": {},
   "outputs": [],
   "source": []
  }
 ],
 "metadata": {
  "kernelspec": {
   "display_name": "Python 3 (ipykernel)",
   "language": "python",
   "name": "python3"
  },
  "language_info": {
   "codemirror_mode": {
    "name": "ipython",
    "version": 3
   },
   "file_extension": ".py",
   "mimetype": "text/x-python",
   "name": "python",
   "nbconvert_exporter": "python",
   "pygments_lexer": "ipython3",
   "version": "3.11.2"
  }
 },
 "nbformat": 4,
 "nbformat_minor": 5
}
